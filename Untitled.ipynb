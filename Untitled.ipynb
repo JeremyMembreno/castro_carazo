{
 "cells": [
  {
   "cell_type": "code",
   "execution_count": 5,
   "id": "4faeec8e",
   "metadata": {},
   "outputs": [
    {
     "name": "stdout",
     "output_type": "stream",
     "text": [
      "[0.    0.375 1.    0.75  0.5  ]\n"
     ]
    }
   ],
   "source": [
    "import numpy as np\n",
    "\n",
    "def normalize(data):\n",
    "    # Obtener el valor mínimo y máximo de los datos\n",
    "    min_value = np.min(data)\n",
    "    max_value = np.max(data)\n",
    "    \n",
    "    # Aplicar la fórmula de la normalización min-max\n",
    "    normalized_data = (data - min_value) / (max_value - min_value)\n",
    "    \n",
    "    return normalized_data\n",
    "\n",
    "# Ejemplo de datos\n",
    "data = [2, 5, 10, 8, 6]\n",
    "\n",
    "# Llamar a la función de normalización\n",
    "normalized_data = normalize(data)\n",
    "\n",
    "print(normalized_data)"
   ]
  },
  {
   "cell_type": "code",
   "execution_count": 3,
   "id": "b6709c85",
   "metadata": {},
   "outputs": [
    {
     "name": "stdout",
     "output_type": "stream",
     "text": [
      "1\n"
     ]
    }
   ],
   "source": []
  }
 ],
 "metadata": {
  "kernelspec": {
   "display_name": "Python 3 (ipykernel)",
   "language": "python",
   "name": "python3"
  },
  "language_info": {
   "codemirror_mode": {
    "name": "ipython",
    "version": 3
   },
   "file_extension": ".py",
   "mimetype": "text/x-python",
   "name": "python",
   "nbconvert_exporter": "python",
   "pygments_lexer": "ipython3",
   "version": "3.10.9"
  }
 },
 "nbformat": 4,
 "nbformat_minor": 5
}
