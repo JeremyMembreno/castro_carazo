{
 "cells": [
  {
   "cell_type": "code",
   "execution_count": 4,
   "id": "b05a735d",
   "metadata": {},
   "outputs": [
    {
     "name": "stdout",
     "output_type": "stream",
     "text": [
      "                      promedio_de_ventas_por_town  conteo\n",
      "town    propertyType                                     \n",
      "Ansonia Commercial                       325000.0       1\n",
      "Ashford Residential                      430000.0       1\n",
      "Avon    Residential                           NaN       3\n",
      "Berlin  Residential                           NaN       1\n"
     ]
    }
   ],
   "source": [
    "import pandas as pd\n",
    "from io import StringIO\n",
    "\n",
    "# Lee el archivo CSV en un DataFrame\n",
    "data = \"\"\"listYear,town,assessedValue,saleAmount,salesRatio,propertyType\n",
    "2020,Ansonia,150500.0,325000.0,0.46307692307692305,Commercial\n",
    "2020,Ashford,253000.0,430000.0,0.5883720930232558,Residential\n",
    "2020,Avon,130400.0,,0.7248471372984991,Residential\n",
    "2020,Avon,619290.0,,0.6958314606741574,Residential\n",
    "2020,Avon,862330.0,,0.5957374784110535,Residential\n",
    "2020,Berlin,234200.0,,1.8015384615384615,Residential\"\"\"\n",
    "df = pd.read_csv(StringIO(data))\n",
    "\n",
    "# Agrupa los datos por ciudad y tipo de propiedad\n",
    "grouped = df.groupby(['town', 'propertyType'])\n",
    "\n",
    "# Calcula el promedio de saleAmount y el conteo de ventas para cada grupo\n",
    "result = grouped.agg({'saleAmount': 'mean', 'propertyType': 'count'})\n",
    "\n",
    "# Renombra las columnas para que tengan nombres más descriptivos\n",
    "result = result.rename(columns={'saleAmount': 'promedio_de_ventas_por_town', 'propertyType': 'conteo'})\n",
    "\n",
    "# Muestra el resultado final\n",
    "print(result)\n"
   ]
  },
  {
   "cell_type": "code",
   "execution_count": null,
   "id": "3eb90747",
   "metadata": {},
   "outputs": [],
   "source": []
  },
  {
   "cell_type": "code",
   "execution_count": null,
   "id": "3c155496",
   "metadata": {},
   "outputs": [],
   "source": []
  }
 ],
 "metadata": {
  "kernelspec": {
   "display_name": "Python 3 (ipykernel)",
   "language": "python",
   "name": "python3"
  },
  "language_info": {
   "codemirror_mode": {
    "name": "ipython",
    "version": 3
   },
   "file_extension": ".py",
   "mimetype": "text/x-python",
   "name": "python",
   "nbconvert_exporter": "python",
   "pygments_lexer": "ipython3",
   "version": "3.10.9"
  }
 },
 "nbformat": 4,
 "nbformat_minor": 5
}
